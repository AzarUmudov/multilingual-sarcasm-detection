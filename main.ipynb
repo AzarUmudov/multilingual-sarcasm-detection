{
 "cells": [
  {
   "cell_type": "code",
   "execution_count": 37,
   "metadata": {},
   "outputs": [],
   "source": [
    "from datasets import load_dataset"
   ]
  },
  {
   "cell_type": "code",
   "execution_count": 45,
   "metadata": {},
   "outputs": [
    {
     "name": "stderr",
     "output_type": "stream",
     "text": [
      "Found cached dataset json (C:/Users/User/.cache/huggingface/datasets/raquiba___json/raquiba--Sarcasm_News_Headline-cee655b9846a1797/0.0.0/e347ab1c932092252e717ff3f949105a4dd28b27e842dd53157d2f72e276c2e4)\n",
      "Found cached dataset ar_sarcasm (C:/Users/User/.cache/huggingface/datasets/ar_sarcasm/default/1.0.0/2e2aad7fa94fad1d8baf3905775cd264e1429dc686b1a1dac1d2545e795d30f0)\n",
      "Found cached dataset kor_sarcasm (C:/Users/User/.cache/huggingface/datasets/kor_sarcasm/default/1.1.0/00d38c200d4d563ed94efb9ff4ca119ded94fe3cdf1e381ed95274de0a9d59f0)\n"
     ]
    }
   ],
   "source": [
    "# load datasets\n",
    "eng_sarc_dataset = load_dataset(path='raquiba/Sarcasm_News_Headline', split='train')\n",
    "ar_sarc_dataset = load_dataset(path='ar_sarcasm', split='train')\n",
    "kor_sarc_dataset = load_dataset(path='kor_sarcasm', split='train')"
   ]
  },
  {
   "cell_type": "code",
   "execution_count": 46,
   "metadata": {},
   "outputs": [],
   "source": [
    "# process datasets\n",
    "eng_sarc_dataset = eng_sarc_dataset.remove_columns(column_names=['article_link'])\n",
    "eng_sarc_dataset = eng_sarc_dataset.rename_columns({\"is_sarcastic\":\"label\"})\n",
    "\n",
    "ar_sarc_dataset = ar_sarc_dataset.remove_columns(column_names=['dialect', 'sentiment', 'original_sentiment', 'source'])\n",
    "ar_sarc_dataset = ar_sarc_dataset.rename_columns({\"tweet\":\"headline\", \"sarcasm\":\"label\"})\n",
    "\n",
    "kor_sarc_dataset = kor_sarc_dataset.rename_columns({\"tokens\":\"headline\"})"
   ]
  },
  {
   "cell_type": "code",
   "execution_count": 53,
   "metadata": {},
   "outputs": [],
   "source": [
    "model_ckpt = 'distilbert-base-uncased'"
   ]
  },
  {
   "cell_type": "code",
   "execution_count": 54,
   "metadata": {},
   "outputs": [],
   "source": [
    "from transformers import AutoTokenizer\n",
    "tokenizer = AutoTokenizer.from_pretrained(model_ckpt)"
   ]
  },
  {
   "cell_type": "code",
   "execution_count": 86,
   "metadata": {},
   "outputs": [
    {
     "name": "stderr",
     "output_type": "stream",
     "text": [
      "Loading cached processed dataset at C:\\Users\\User\\.cache\\huggingface\\datasets\\raquiba___json\\raquiba--Sarcasm_News_Headline-cee655b9846a1797\\0.0.0\\e347ab1c932092252e717ff3f949105a4dd28b27e842dd53157d2f72e276c2e4\\cache-608e218aa7979a18.arrow\n"
     ]
    },
    {
     "name": "stderr",
     "output_type": "stream",
     "text": [
      "Loading cached processed dataset at C:\\Users\\User\\.cache\\huggingface\\datasets\\ar_sarcasm\\default\\1.0.0\\2e2aad7fa94fad1d8baf3905775cd264e1429dc686b1a1dac1d2545e795d30f0\\cache-71236d14f6530724.arrow\n",
      "Loading cached processed dataset at C:\\Users\\User\\.cache\\huggingface\\datasets\\kor_sarcasm\\default\\1.1.0\\00d38c200d4d563ed94efb9ff4ca119ded94fe3cdf1e381ed95274de0a9d59f0\\cache-02c8f7b492ba29e0.arrow\n"
     ]
    }
   ],
   "source": [
    "# tokenize datasets using distil-bert pretrained tokenizer\n",
    "encoded_eng_dataset = eng_sarc_dataset.map(lambda sample: tokenizer(sample['headline'], padding=True, truncation=True), batched=True)\n",
    "encoded_ar_dataset = ar_sarc_dataset.map(lambda sample: tokenizer(sample['headline'], padding=True, truncation=True), batched=True)\n",
    "encoded_kor_dataset = kor_sarc_dataset.map(lambda sample: tokenizer(sample['headline'], padding=True, truncation=True), batched=True)"
   ]
  },
  {
   "cell_type": "code",
   "execution_count": null,
   "metadata": {},
   "outputs": [],
   "source": []
  }
 ],
 "metadata": {
  "kernelspec": {
   "display_name": "Python 3",
   "language": "python",
   "name": "python3"
  },
  "language_info": {
   "codemirror_mode": {
    "name": "ipython",
    "version": 3
   },
   "file_extension": ".py",
   "mimetype": "text/x-python",
   "name": "python",
   "nbconvert_exporter": "python",
   "pygments_lexer": "ipython3",
   "version": "3.8.8"
  },
  "orig_nbformat": 4
 },
 "nbformat": 4,
 "nbformat_minor": 2
}
